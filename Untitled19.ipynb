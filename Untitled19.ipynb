{
  "nbformat": 4,
  "nbformat_minor": 0,
  "metadata": {
    "colab": {
      "provenance": [],
      "authorship_tag": "ABX9TyNxvGN8WP3VYW3vh89fSvEc",
      "include_colab_link": true
    },
    "kernelspec": {
      "name": "python3",
      "display_name": "Python 3"
    },
    "language_info": {
      "name": "python"
    }
  },
  "cells": [
    {
      "cell_type": "markdown",
      "metadata": {
        "id": "view-in-github",
        "colab_type": "text"
      },
      "source": [
        "<a href=\"https://colab.research.google.com/github/2203a51714/IRS/blob/main/Untitled19.ipynb\" target=\"_parent\"><img src=\"https://colab.research.google.com/assets/colab-badge.svg\" alt=\"Open In Colab\"/></a>"
      ]
    },
    {
      "cell_type": "code",
      "execution_count": 2,
      "metadata": {
        "colab": {
          "base_uri": "https://localhost:8080/"
        },
        "id": "rANrJCIlHaJN",
        "outputId": "211b8394-d2ae-43a4-a50c-7b8be120bba8"
      },
      "outputs": [
        {
          "output_type": "stream",
          "name": "stdout",
          "text": [
            "Tokenized Words: ['The', 'quick', 'brown', 'fox', 'jumps', 'over', 'the', 'lazy', 'dog', '.']\n",
            "Original Words: ['running', 'jumps', 'easily', 'lovely', 'flies', 'children']\n",
            "Porter Stemmer Results: ['run', 'jump', 'easili', 'love', 'fli', 'children']\n",
            "Snowball Stemmer Results: ['run', 'jump', 'easili', 'love', 'fli', 'children']\n",
            "Original Words and POS: [('running', 'v'), ('better', 'a'), ('children', 'n'), ('geese', 'n')]\n",
            "Lemmatized Words: ['run', 'good', 'child', 'goose']\n"
          ]
        },
        {
          "output_type": "stream",
          "name": "stderr",
          "text": [
            "[nltk_data] Downloading package punkt_tab to /root/nltk_data...\n",
            "[nltk_data]   Package punkt_tab is already up-to-date!\n",
            "[nltk_data] Downloading package wordnet to /root/nltk_data...\n",
            "[nltk_data]   Package wordnet is already up-to-date!\n",
            "[nltk_data] Downloading package omw-1.4 to /root/nltk_data...\n",
            "[nltk_data]   Package omw-1.4 is already up-to-date!\n"
          ]
        }
      ],
      "source": [
        "from nltk.tokenize import word_tokenize\n",
        "import nltk\n",
        "nltk.download('punkt_tab')\n",
        "text = \"The quick brown fox jumps over the lazy dog.\"\n",
        "tokens = word_tokenize(text)\n",
        "print(\"Tokenized Words:\", tokens)\n",
        "from nltk.stem import PorterStemmer, SnowballStemmer\n",
        "porter_stemmer = PorterStemmer()\n",
        "snowball_stemmer = SnowballStemmer(language=\"english\")\n",
        "words = [\"running\", \"jumps\", \"easily\", \"lovely\", \"flies\", \"children\"]\n",
        "porter_stems = [porter_stemmer.stem(word) for word in words]\n",
        "snowball_stems = [snowball_stemmer.stem(word) for word in words]\n",
        "print(\"Original Words:\", words)\n",
        "print(\"Porter Stemmer Results:\", porter_stems)\n",
        "print(\"Snowball Stemmer Results:\", snowball_stems)\n",
        "from nltk.stem import WordNetLemmatizer\n",
        "from nltk.corpus import wordnet\n",
        "import nltk\n",
        "nltk.download('wordnet')\n",
        "nltk.download('omw-1.4')\n",
        "lemmatizer = WordNetLemmatizer()\n",
        "words = [(\"running\", \"v\"), (\"better\", \"a\"), (\"children\", \"n\"), (\"geese\", \"n\")]\n",
        "tag_map = {\n",
        "\"v\": wordnet.VERB,\n",
        "\"a\": wordnet.ADJ,\n",
        "\"n\": wordnet.NOUN,\n",
        "\"r\": wordnet.ADV,\n",
        "}\n",
        "lemmatized_words = [lemmatizer.lemmatize(word, pos=tag_map.get(pos,\n",
        "wordnet.NOUN)) for word, pos in words]\n",
        "print(\"Original Words and POS:\", words)\n",
        "print(\"Lemmatized Words:\", lemmatized_words)"
      ]
    }
  ]
}